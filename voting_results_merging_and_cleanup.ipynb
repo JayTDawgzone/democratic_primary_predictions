{
 "cells": [
  {
   "cell_type": "code",
   "execution_count": 1,
   "metadata": {},
   "outputs": [],
   "source": [
    "import pandas as pd\n",
    "import numpy as np"
   ]
  },
  {
   "cell_type": "code",
   "execution_count": 2,
   "metadata": {},
   "outputs": [],
   "source": [
    "iowa = 'data/iowa_caucus_results.xlsx'\n",
    "new_hampshire = 'data/new_hampshire_caucus_results.xlsx'\n",
    "nevada = 'data/nevada_caucus_results.xlsx'\n",
    "south_carolina = 'data/south_carolina_caucus_results.xlsx'\n"
   ]
  },
  {
   "cell_type": "code",
   "execution_count": 3,
   "metadata": {},
   "outputs": [],
   "source": [
    "iowa = pd.read_excel(iowa)\n",
    "new_hampshire = pd.read_excel(new_hampshire)\n",
    "nevada = pd.read_excel(nevada)\n",
    "south_carolina = pd.read_excel(south_carolina)"
   ]
  },
  {
   "cell_type": "code",
   "execution_count": 77,
   "metadata": {},
   "outputs": [],
   "source": [
    "active_candidates = ['Bernie Sanders',\n",
    "                       'Joe Biden', \n",
    "                       'Elizabeth Warren', \n",
    "                       'Amy Klobuchar', \n",
    "                       'Tom Steyer', \n",
    "                       'Pete Butigieg', \n",
    "                       'Michael Bloomber']\n",
    "active_candidates_LN = ['Sanders',\n",
    "                       'Biden', \n",
    "                       'Warren', \n",
    "                       'Klobuchar', \n",
    "                       'Steyer', \n",
    "                       'Butigieg', \n",
    "                       'Bloomber']"
   ]
  },
  {
   "cell_type": "code",
   "execution_count": 119,
   "metadata": {},
   "outputs": [],
   "source": [
    "#### This Code works for Data from Wikipedia\n",
    "\n",
    "new_hampshire_df = new_hampshire.drop('State-wide', axis=1)\n",
    "new_hampshire_df = new_hampshire_df.melt(id_vars=['Candidate'],value_vars=new_hampshire_df.columns.to_list()[1:-1])\n",
    "new_hampshire_df = new_hampshire_df[~new_hampshire_df['value'].isin(['—'])]\n",
    "new_hampshire_df['value'] = new_hampshire_df['value'].astype(int)\n",
    "new_hampshire_df['State'] = \"NH\"\n",
    "new_hampshire_df = new_hampshire_df[new_hampshire_df['Candidate'] != \"Total\"]\n",
    "new_hampshire_df = new_hampshire_df[new_hampshire_df['Candidate'].isin(active_candidates)]\n",
    "new_hampshire_df = new_hampshire_df.sort_values(by=['variable', 'value'], ascending=False)\n",
    "new_hampshire_counties = new_hampshire_df['variable'].unique()\n",
    "\n",
    "for county in new_hampshire_counties:\n",
    "    i = 0\n",
    "    for index, row in new_hampshire_df.iterrows():\n",
    "        if row['variable'] == county:\n",
    "            i = i + 1\n",
    "            if i == 1:\n",
    "                new_hampshire_df.loc[index, 'winner'] = 1\n",
    "            else:\n",
    "                new_hampshire_df.loc[index, 'winner'] = 0\n",
    "\n",
    "        candidate = row[\"Candidate\"].split()\n",
    "        new_hampshire_df.loc[index, 'last name'] = candidate[1]\n",
    "new_hampshire_df.rename(columns={\"variable\": \"county\", \"value\": \"votes\", \"State\": \"state\"}, inplace=True)\n",
    "new_hampshire_df.drop(\"Candidate\", axis=1, inplace=True)\n",
    "new_hampshire_df = new_hampshire_df[['last name', 'county', 'votes', 'state', 'winner']]"
   ]
  },
  {
   "cell_type": "code",
   "execution_count": 113,
   "metadata": {},
   "outputs": [],
   "source": [
    "### This code works for data from Washington Post\n",
    "iowa_df = iowa.transpose().reset_index()\n",
    "iowa_df.columns = iowa_df.iloc[0]\n",
    "iowa_df = iowa_df.drop(iowa_df.index[0])\n",
    "iowa_df = iowa_df.melt(id_vars=['Counties'],value_vars=iowa_df.columns.to_list()[1:-1])\n",
    "iowa_df['State'] = \"IA\"\n",
    "iowa_df = iowa_df[iowa_df['Counties'].isin(active_candidates_LN)]\n",
    "iowa_df = iowa_df.sort_values(by=[0, 'value'], ascending=False)\n",
    "iowa_counties = iowa_df[0].unique()\n",
    "\n",
    "for county in iowa_counties:\n",
    "    i = 0\n",
    "    for index, row in iowa_df.iterrows():\n",
    "        if row[0] == county:\n",
    "            i = i + 1\n",
    "            if i == 1:\n",
    "                iowa_df.loc[index, 'winner'] = 1\n",
    "            else:\n",
    "                iowa_df.loc[index, 'winner'] = 0\n",
    "iowa_df.rename(columns={\"Counties\": \"last name\", 0: \"county\", \"State\": \"state\", 'value': 'votes'}, inplace=True)    "
   ]
  },
  {
   "cell_type": "code",
   "execution_count": 125,
   "metadata": {},
   "outputs": [],
   "source": [
    "results = new_hampshire_df.append(iowa_df)\n",
    "results = results.append(nevada_df)\n",
    "results = results.append(south_carolina_df)"
   ]
  },
  {
   "cell_type": "code",
   "execution_count": 128,
   "metadata": {},
   "outputs": [],
   "source": [
    "results.to_csv('results.csv')"
   ]
  },
  {
   "cell_type": "code",
   "execution_count": null,
   "metadata": {},
   "outputs": [],
   "source": []
  }
 ],
 "metadata": {
  "kernelspec": {
   "display_name": "Python 3",
   "language": "python",
   "name": "python3"
  },
  "language_info": {
   "codemirror_mode": {
    "name": "ipython",
    "version": 3
   },
   "file_extension": ".py",
   "mimetype": "text/x-python",
   "name": "python",
   "nbconvert_exporter": "python",
   "pygments_lexer": "ipython3",
   "version": "3.7.3"
  }
 },
 "nbformat": 4,
 "nbformat_minor": 2
}
